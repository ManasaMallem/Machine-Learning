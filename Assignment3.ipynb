{
 "cells": [
  {
   "cell_type": "code",
   "execution_count": 1,
   "id": "496204ce-5d31-4eff-9764-6b6a60868a90",
   "metadata": {},
   "outputs": [
    {
     "name": "stdout",
     "output_type": "stream",
     "text": [
      "(3, 5)\n",
      "[[15 15  3 15  4]\n",
      " [ 4  3 18 16 17]\n",
      " [17 10 17  4 13]]\n",
      "\n",
      " [[ 0  0  3  0  4]\n",
      " [ 4  3  0 16 17]\n",
      " [ 0 10  0  4 13]]\n",
      "Shape: (4, 3)\n",
      "Type: <class 'numpy.ndarray'>\n",
      "Data type: int32\n"
     ]
    }
   ],
   "source": [
    "#A\n",
    "# Creating random vector of size 15 having only Integers in the range 1-20.\n",
    "import numpy as np\n",
    "v =  np.random.randint(1,20,(15,))\n",
    "\n",
    "# 1. Reshaping the array to 3 by 5 \n",
    "arr = v.reshape(3,5)\n",
    "\n",
    "# 2. Printing Array shape\n",
    "print(arr.shape)\n",
    "print(arr)\n",
    "\n",
    "# Replacing the max in each row by 0\n",
    "row_max = arr.max(axis=1).reshape(-1,1)\n",
    "arr = np.where(arr == row_max, 0, arr)\n",
    "print('\\n',arr)\n",
    "\n",
    "#Creating a 2-D Array of size 4X3 and printing type,shape and data type of the array\n",
    "x = np.array([[1, 2, 3], [4, 5, 6], [7, 8, 9], [10, 5, 7]], np.int32)\n",
    "print('Shape:', x.shape)\n",
    "print('Type:', type(x))\n",
    "print('Data type:', x.dtype)"
   ]
  },
  {
   "cell_type": "code",
   "execution_count": 2,
   "id": "7b6dd646-fc85-4bb6-8ab6-b4f77801eb19",
   "metadata": {},
   "outputs": [
    {
     "name": "stdout",
     "output_type": "stream",
     "text": [
      "Eigenvalues:  [2. 1.]\n",
      "Right Eigenvectors: \n",
      " [[0.89442719 0.70710678]\n",
      " [0.4472136  0.70710678]]\n"
     ]
    }
   ],
   "source": [
    "#B\n",
    "#program to compute the eigenvalues and right eigenvectors of given square array\n",
    "\n",
    "import numpy as np\n",
    "\n",
    "# create the square array\n",
    "A = np.array([[3, -2], [1, 0]])\n",
    "\n",
    "# compute eigenvalues and eigenvectors\n",
    "eigenvalues, eigenvectors = np.linalg.eig(A)\n",
    "\n",
    "# print the results\n",
    "print(\"Eigenvalues: \", eigenvalues)\n",
    "print(\"Right Eigenvectors: \\n\", eigenvectors)"
   ]
  },
  {
   "cell_type": "code",
   "execution_count": 3,
   "id": "462a94da-59ae-4b5b-ab62-48b104aabe0b",
   "metadata": {},
   "outputs": [
    {
     "name": "stdout",
     "output_type": "stream",
     "text": [
      "Sum of diagonal elements:  4\n"
     ]
    }
   ],
   "source": [
    "#C\n",
    "#Computing the sum of the diagonal element of given array\n",
    "import numpy as np\n",
    "\n",
    "# create the array\n",
    "A = np.array([[0, 1, 2], [3, 4, 5]])\n",
    "\n",
    "# compute the sum of diagonal elements\n",
    "diagonal_sum = np.trace(A)\n",
    "\n",
    "# print the result\n",
    "print(\"Sum of diagonal elements: \", diagonal_sum)"
   ]
  },
  {
   "cell_type": "code",
   "execution_count": 4,
   "id": "c239b83d-d070-4abb-8a54-4b8081c3134b",
   "metadata": {},
   "outputs": [
    {
     "name": "stdout",
     "output_type": "stream",
     "text": [
      "Original array:\n",
      " [[1 2]\n",
      " [3 4]\n",
      " [5 6]]\n",
      "New array:\n",
      " [[1 2 3]\n",
      " [4 5 6]]\n",
      "Original array:\n",
      " [[1 2 3]\n",
      " [4 5 6]]\n",
      "New array:\n",
      " [[1 2 3]\n",
      " [4 5 6]]\n"
     ]
    }
   ],
   "source": [
    "#D\n",
    "#Numpy program to create a new shape to an array without changing its data\n",
    "import numpy as np\n",
    "\n",
    "#Reshape 3X2:\n",
    "# create the original array\n",
    "original_array = np.array([[1, 2], [3, 4], [5, 6]])\n",
    "\n",
    "# reshape the array to a new shape\n",
    "new_array = original_array.reshape((2, 3))\n",
    "\n",
    "# print both arrays to verify the data is not changed\n",
    "print(\"Original array:\\n\", original_array)\n",
    "print(\"New array:\\n\", new_array)\n",
    "\n",
    "\n",
    "\n",
    "# Reshape 2x3:\n",
    "import numpy as np\n",
    "\n",
    "# create the original array\n",
    "original_array = np.array([[1, 2, 3], [4, 5, 6]])\n",
    "\n",
    "# reshape the array to a new shape\n",
    "new_array = original_array.reshape((2, 3))\n",
    "\n",
    "# print both arrays to verify the data is not changed\n",
    "print(\"Original array:\\n\", original_array)\n",
    "print(\"New array:\\n\", new_array)"
   ]
  },
  {
   "cell_type": "code",
   "execution_count": null,
   "id": "13c0aecc-69ef-4c84-add9-be0af5b1c1b6",
   "metadata": {},
   "outputs": [],
   "source": []
  }
 ],
 "metadata": {
  "kernelspec": {
   "display_name": "Python 3 (ipykernel)",
   "language": "python",
   "name": "python3"
  },
  "language_info": {
   "codemirror_mode": {
    "name": "ipython",
    "version": 3
   },
   "file_extension": ".py",
   "mimetype": "text/x-python",
   "name": "python",
   "nbconvert_exporter": "python",
   "pygments_lexer": "ipython3",
   "version": "3.12.3"
  }
 },
 "nbformat": 4,
 "nbformat_minor": 5
}
