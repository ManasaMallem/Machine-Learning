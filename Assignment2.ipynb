{
 "cells": [
  {
   "cell_type": "code",
   "execution_count": 1,
   "id": "e6b8bf09-4969-4dfb-a7dc-52caaca49665",
   "metadata": {},
   "outputs": [
    {
     "name": "stdout",
     "output_type": "stream",
     "text": [
      "*\n",
      "**\n",
      "***\n",
      "****\n",
      "*****\n",
      "****\n",
      "***\n",
      "**\n",
      "*\n"
     ]
    }
   ],
   "source": [
    "for i in range(1, 6):\n",
    "    for j in range(i): # inner loop runs from 0 to i, where i is the current iteration of the outer loop\n",
    "        print(\"*\",end=\"\")\n",
    "    print(\"\")\n",
    "for i in range(4, 0, -1): # loop starts from 4 and goes till 0 with a step of -1, thus it prints the reverse pattern.\n",
    "    for j in range(i):\n",
    "        print(\"*\",end=\"\")\n",
    "    print(\"\")\n"
   ]
  },
  {
   "cell_type": "code",
   "execution_count": 2,
   "id": "3dab2244-1eb0-4374-bb92-ec14020ee3e6",
   "metadata": {},
   "outputs": [
    {
     "name": "stdout",
     "output_type": "stream",
     "text": [
      "20 40 60 80 100 "
     ]
    }
   ],
   "source": [
    "my_list = [10, 20, 30, 40, 50, 60, 70, 80, 90, 100]\n",
    "# start from index 1 with 2 steps in between\n",
    "for i in my_list[1::2]:\n",
    "    print(i, end=\" \")"
   ]
  },
  {
   "cell_type": "code",
   "execution_count": 3,
   "id": "6153d9c8-303b-4035-be3a-8fef9051341a",
   "metadata": {},
   "outputs": [
    {
     "name": "stdout",
     "output_type": "stream",
     "text": [
      "[23, 'Python', 23.98]\n",
      "[<class 'int'>, <class 'str'>, <class 'float'>]\n"
     ]
    }
   ],
   "source": [
    "x = [23, 'Python', 23.98]\n",
    "types = [] # creating an empty list\n",
    "for i in x:\n",
    "    types.append(type(i)) # using type function\n",
    "print(x)\n",
    "print(types)"
   ]
  },
  {
   "cell_type": "code",
   "execution_count": 4,
   "id": "35069a70-98da-419f-8269-6e7250a00d29",
   "metadata": {},
   "outputs": [
    {
     "name": "stdout",
     "output_type": "stream",
     "text": [
      "Unique List: [1, 2, 3, 4, 5]\n"
     ]
    }
   ],
   "source": [
    "def sample_list(l):\n",
    "  x = [] # creating an empty list\n",
    "  for a in l:\n",
    "    if a not in x:\n",
    "      x.append(a)  # using append function\n",
    "  return x\n",
    "print(\"Unique List:\", sample_list([1,2,3,3,3,3,4,5]))"
   ]
  },
  {
   "cell_type": "code",
   "execution_count": 5,
   "id": "e61d9e39-e2c1-4b5c-b0e5-f5d1990e50e3",
   "metadata": {},
   "outputs": [
    {
     "name": "stdout",
     "output_type": "stream",
     "text": [
      "No. of Upper case characters: 3\n",
      "No. of lower case characters: 12\n"
     ]
    }
   ],
   "source": [
    "def string(s): # using function\n",
    "    u = sum(1 for i in s if i.isupper()) # using is upper function and finding total upper letters\n",
    "    l = sum(1 for i in s if i.islower()) # using is lower function and finding total lower letters\n",
    "    print(\"No. of Upper case characters:\", u)\n",
    "    print(\"No. of lower case characters:\", l)\n",
    "string('The quick Brow Fox')"
   ]
  },
  {
   "cell_type": "code",
   "execution_count": null,
   "id": "7ea28842-b859-40fd-b4b2-3309f0d40036",
   "metadata": {},
   "outputs": [],
   "source": []
  }
 ],
 "metadata": {
  "kernelspec": {
   "display_name": "Python 3 (ipykernel)",
   "language": "python",
   "name": "python3"
  },
  "language_info": {
   "codemirror_mode": {
    "name": "ipython",
    "version": 3
   },
   "file_extension": ".py",
   "mimetype": "text/x-python",
   "name": "python",
   "nbconvert_exporter": "python",
   "pygments_lexer": "ipython3",
   "version": "3.12.3"
  }
 },
 "nbformat": 4,
 "nbformat_minor": 5
}
